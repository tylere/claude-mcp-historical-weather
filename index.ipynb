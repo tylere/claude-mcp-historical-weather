{
 "cells": [
  {
   "cell_type": "markdown",
   "id": "7e7752c7",
   "metadata": {},
   "source": [
    "# MCP Historical Weather Comparison\n",
    "\n",
    "## Overview\n",
    "\n",
    "This notebook demonstrates how to use **Model Context Protocol (MCP)** to extend Claude's capabilities with real-time data access. We'll build a system that allows Claude to access historical weather data and compare annual weather statistics between two locations.\n",
    "\n",
    "### What is MCP?\n",
    "\n",
    "Model Context Protocol (MCP) is a standard that enables AI models to securely connect with external data sources and tools. Instead of being limited to training data, models can access live information, APIs, and services.\n",
    "\n",
    "### What You'll Learn\n",
    "\n",
    "1. **Limitations of LLMs without external tools** - See how Claude responds to weather queries without access to real data\n",
    "2. **MCP Integration** - Connect Claude to a historical weather API\n",
    "3. **Data Visualization** - Create aesthetically pleasing charts comparing weather patterns\n",
    "4. **Interactive Analysis** - Ask Claude to analyze and compare weather data between locations\n",
    "\n",
    "### Goals\n",
    "\n",
    "By the end of this notebook, you'll have a working system that can:\n",
    "- Fetch historical weather data for any location\n",
    "- Compare annual weather statistics between two cities\n",
    "- Generate visualizations and insights about weather patterns\n",
    "- Demonstrate the power of extending LLMs with external data sources"
   ]
  },
  {
   "cell_type": "markdown",
   "id": "1bbfc692",
   "metadata": {},
   "source": [
    "## Setup\n",
    "\n",
    "### Environment Setup\n",
    "\n",
    "This notebook is designed to work in both Google Colab and local Jupyter environments. The following cell will automatically detect the environment and install the necessary dependencies."
   ]
  },
  {
   "cell_type": "code",
   "execution_count": 1,
   "id": "s0296q9lew9",
   "metadata": {},
   "outputs": [],
   "source": [
    "import sys\n",
    "\n",
    "# Check if we're running in Google Colab\n",
    "IN_COLAB = 'google.colab' in sys.modules\n",
    "\n",
    "# Install required packages\n",
    "if IN_COLAB:\n",
    "    # Install packages for Colab environment\n",
    "    packages = [\n",
    "        \"anthropic\",\n",
    "        \"altair\",\n",
    "        \"pydantic\",\n",
    "        \"requests\"\n",
    "    ]\n",
    "    !pip install {\" \".join(packages)}"
   ]
  },
  {
   "cell_type": "markdown",
   "id": "i7eh8nmjwt",
   "metadata": {},
   "source": [
    "### Python Package Imports\n",
    "\n",
    "Now let's import all the necessary packages for our weather comparison system."
   ]
  },
  {
   "cell_type": "code",
   "execution_count": 5,
   "id": "shi699mdg4",
   "metadata": {},
   "outputs": [
    {
     "name": "stdout",
     "output_type": "stream",
     "text": [
      "All packages imported successfully!\n"
     ]
    }
   ],
   "source": [
    "import os\n",
    "import json\n",
    "import getpass\n",
    "from typing import Optional, Dict, Any\n",
    "from datetime import datetime, timedelta\n",
    "\n",
    "# Data handling and validation\n",
    "import requests\n",
    "from pydantic import BaseModel, Field, validator\n",
    "\n",
    "# Visualization\n",
    "import altair as alt\n",
    "alt.data_transformers.enable('json')\n",
    "\n",
    "# For displaying rich notebook content\n",
    "from IPython.display import Image, Markdown, display\n",
    "\n",
    "# Claude API\n",
    "from anthropic import Anthropic\n",
    "\n",
    "print(\"All packages imported successfully!\")"
   ]
  },
  {
   "cell_type": "markdown",
   "id": "tvr3i79qmng",
   "metadata": {},
   "source": [
    "### Anthropic API Key Setup\n",
    "\n",
    "We need to securely obtain your Anthropic API key to interact with Claude. This function will try multiple methods in order of preference for security."
   ]
  },
  {
   "cell_type": "code",
   "execution_count": 3,
   "id": "r9yh2vsfxv9",
   "metadata": {},
   "outputs": [],
   "source": [
    "def get_api_key():\n",
    "    try:\n",
    "        if IN_COLAB:\n",
    "            # Import package for accessing user data\n",
    "            from google.colab import userdata\n",
    "            api_key = userdata.get('ANTHROPIC_API_KEY')\n",
    "        else:\n",
    "            api_key = os.environ.get(\"ANTHROPIC_API_KEY\")\n",
    "    except:\n",
    "        # Prompt user for their API key\n",
    "        api_key = getpass.getpass(\"Enter your Anthropic API key: \")\n",
    "    return api_key"
   ]
  },
  {
   "cell_type": "markdown",
   "id": "1575uf18qwy",
   "metadata": {},
   "source": [
    "## Motivation: Do we actually need to extend LLMs?\n",
    "\n",
    "Before diving into MCP integration, let's first see what happens when we ask Claude to compare weather data between two locations **without giving it access to any external tools or data sources**.\n",
    "\n",
    "This will demonstrate the fundamental limitation of LLMs: they can only work with information from their training data, which has a knowledge cutoff and may not include specific, current, or detailed data."
   ]
  },
  {
   "cell_type": "code",
   "execution_count": 8,
   "id": "w7cevzhn4cr",
   "metadata": {},
   "outputs": [
    {
     "name": "stdout",
     "output_type": "stream",
     "text": [
      "🤖 Asking Claude about weather data WITHOUT external tools...\n",
      "======================================================================\n",
      "Question: \n",
      "Please compare the annual weather statistics for San Francisco, California\n",
      "and Redwood City, California for the years 2000-2023. \n",
      "I'd like to see:\n",
      "\n",
      "1. Average temperatures by year\n",
      "2. Total precipitation by year  \n",
      "3. Number of sunny days by year\n",
      "4. Humidity levels by year\n",
      "5. Any notable weather patterns or extremes\n",
      "\n",
      "Please provide specific data and create a comparison showing which city had more favorable weather conditions.\n",
      "\n",
      "======================================================================\n",
      "Claude's Response:\n",
      "\n"
     ]
    },
    {
     "data": {
      "text/markdown": [
       "I don't have access to specific historical weather databases that would allow me to provide the exact annual statistics you're requesting for San Francisco and Redwood City from 2000-2023. However, I can provide you with general climate comparisons and guidance on where to find this data.\n",
       "\n",
       "## General Climate Comparison\n",
       "\n",
       "**San Francisco:**\n",
       "- Marine climate with cool, foggy summers\n",
       "- Average temps: 50-65°F year-round\n",
       "- Less precipitation variability\n",
       "- More marine layer/fog influence\n",
       "- Generally cooler and windier\n",
       "\n",
       "**Redwood City:**\n",
       "- More inland Mediterranean climate\n",
       "- Average temps: 45-75°F (wider range)\n",
       "- Warmer summers, cooler winters than SF\n",
       "- Less fog influence\n",
       "- Generally sunnier and warmer\n",
       "\n",
       "## Where to Find Specific Historical Data:\n",
       "\n",
       "1. **NOAA Climate Data Online**: climate.gov\n",
       "2. **Weather Underground Historical**: wunderground.com/history\n",
       "3. **NCEI (National Centers for Environmental Information)**\n",
       "4. **California Climate Data Archive**\n",
       "5. **WeatherSpark** for detailed comparisons\n",
       "\n",
       "## Expected Patterns (based on typical climate):\n",
       "- Redwood City likely has more sunny days annually\n",
       "- San Francisco probably has more consistent temperatures\n",
       "- Both cities follow California's dry summer/wet winter pattern\n",
       "- Redwood City typically experiences greater temperature extremes\n",
       "\n",
       "Would you like me to help you interpret data once you gather it from these sources, or would you prefer guidance on analyzing specific weather metrics?"
      ],
      "text/plain": [
       "<IPython.core.display.Markdown object>"
      ]
     },
     "execution_count": 8,
     "metadata": {},
     "output_type": "execute_result"
    }
   ],
   "source": [
    "def ask_claude_without_tools(question: str) -> str:\n",
    "    \"\"\"\n",
    "    Send a question to Claude without any external tools or data access.\n",
    "    \n",
    "    Args:\n",
    "        question: The question to ask Claude\n",
    "    \n",
    "    Returns:\n",
    "        Claude's response as a string\n",
    "    \"\"\"\n",
    "    try:\n",
    "        client = Anthropic(api_key=get_api_key())\n",
    "        message = client.messages.create(\n",
    "            model=\"claude-sonnet-4-20250514\",\n",
    "            max_tokens=1000,\n",
    "            messages=[\n",
    "                {\n",
    "                    \"role\": \"user\", \n",
    "                    \"content\": question\n",
    "                }\n",
    "            ]\n",
    "        )\n",
    "        return message.content[0].text\n",
    "    except Exception as e:\n",
    "        return f\"Error: {e}\"\n",
    "\n",
    "# Test Claude's response without external data\n",
    "weather_question = \"\"\"\n",
    "Please compare the annual weather statistics for San Francisco, California\n",
    "and Redwood City, California for the years 2000-2023. \n",
    "I'd like to see:\n",
    "\n",
    "1. Average temperatures by year\n",
    "2. Total precipitation by year  \n",
    "3. Number of sunny days by year\n",
    "4. Humidity levels by year\n",
    "5. Any notable weather patterns or extremes\n",
    "\n",
    "Please provide specific data and create a comparison showing which city had more favorable weather conditions.\n",
    "\"\"\"\n",
    "\n",
    "print(\"🤖 Asking Claude about weather data WITHOUT external tools...\")\n",
    "print(\"=\"*70)\n",
    "print(f\"Question: {weather_question}\")\n",
    "print(\"=\"*70)\n",
    "print(\"Claude's Response:\")\n",
    "print()\n",
    "\n",
    "response = ask_claude_without_tools(weather_question)\n",
    "Markdown(response)"
   ]
  },
  {
   "cell_type": "markdown",
   "id": "51k0jp8n6wb",
   "metadata": {},
   "source": [
    "### Key Observations\n",
    "\n",
    "As you can see from Claude's response above, without access to external data sources, the model has several limitations:\n",
    "\n",
    "1. **No real-time data**: Claude can't access current or specific historical weather data\n",
    "2. **General knowledge only**: Responses are based on general patterns from training data\n",
    "3. **No specific metrics**: Can't provide exact precipitation amounts, temperatures, or day counts\n",
    "4. **No visualizations**: Can't create charts or graphs from actual data\n",
    "\n",
    "This demonstrates why **Model Context Protocol (MCP)** is valuable - it bridges the gap between the model's reasoning capabilities and real-world data access."
   ]
  },
  {
   "cell_type": "markdown",
   "id": "2zkk6m7ulbb",
   "metadata": {},
   "source": [
    "## Analysis\n",
    "\n",
    "*This section will contain analysis of weather data patterns and comparisons between locations once we implement the MCP integration.*\n",
    "\n",
    "```mermaid\n",
    "graph TD\n",
    "    A[Weather API] --> B[MCP Server]\n",
    "    B --> C[Claude Client]\n",
    "    C --> D[Data Analysis]\n",
    "    D --> E[Visualization]\n",
    "    E --> F[User Insights]\n",
    "```\n",
    "\n",
    "**Coming soon:**\n",
    "- Historical weather data retrieval\n",
    "- Statistical analysis of temperature and precipitation patterns\n",
    "- Seasonal trend identification\n",
    "- Comparative analysis between locations"
   ]
  }
 ],
 "metadata": {
  "kernelspec": {
   "display_name": ".venv",
   "language": "python",
   "name": "python3"
  },
  "language_info": {
   "codemirror_mode": {
    "name": "ipython",
    "version": 3
   },
   "file_extension": ".py",
   "mimetype": "text/x-python",
   "name": "python",
   "nbconvert_exporter": "python",
   "pygments_lexer": "ipython3",
   "version": "3.10.14"
  }
 },
 "nbformat": 4,
 "nbformat_minor": 5
}
